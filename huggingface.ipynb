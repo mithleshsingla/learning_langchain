{
 "cells": [
  {
   "cell_type": "code",
   "execution_count": 1,
   "id": "bd043fcd",
   "metadata": {},
   "outputs": [],
   "source": [
    "from langchain_community.document_loaders import PyPDFDirectoryLoader\n",
    "from langchain_community.document_loaders import PyPDFLoader\n",
    "from langchain.text_splitter import RecursiveCharacterTextSplitter\n",
    "from langchain_community.vectorstores import FAISS"
   ]
  },
  {
   "cell_type": "code",
   "execution_count": 2,
   "id": "57a68829",
   "metadata": {},
   "outputs": [],
   "source": [
    "from langchain.embeddings import HuggingFaceEmbeddings\n",
    "from langchain.prompts import PromptTemplate\n",
    "from langchain.chains import RetrievalQA"
   ]
  },
  {
   "cell_type": "code",
   "execution_count": 3,
   "id": "eaefba01",
   "metadata": {},
   "outputs": [],
   "source": [
    "loader=PyPDFDirectoryLoader(\"pdf\")"
   ]
  },
  {
   "cell_type": "code",
   "execution_count": 5,
   "id": "456e08ae",
   "metadata": {},
   "outputs": [
    {
     "data": {
      "text/plain": [
       "Document(metadata={'producer': 'pdfTeX-1.40.25', 'creator': 'LaTeX with hyperref', 'creationdate': '2025-02-05T01:37:59+00:00', 'author': 'Ruiqi Feng, Tailin Wu, Chenglei Yu, Wenhao Deng, Peiyan Hu', 'keywords': 'Machine Learning, ICML', 'moddate': '2025-02-05T01:37:59+00:00', 'ptex.fullbanner': 'This is pdfTeX, Version 3.141592653-2.6-1.40.25 (TeX Live 2023) kpathsea version 6.3.5', 'subject': 'Proceedings of the International Conference on Machine Learning 2025', 'title': 'On the Guidance of Flow Matching', 'trapped': '/False', 'source': 'pdf\\\\flow_matching.pdf', 'total_pages': 35, 'page': 0, 'page_label': '1'}, page_content='On the Guidance of Flow Matching\\nRuiqi Feng 1 Tailin Wu1 Chenglei Yu1 Wenhao Deng1 Peiyan Hu 2\\nAbstract\\nFlow matching has shown state-of-the-art per-\\nformance in various generative tasks, ranging\\nfrom image generation to decision-making, where\\nguided generation is pivotal. However, the guid-\\nance of flow matching is more general than and\\nthus substantially different from that of its prede-\\ncessor, diffusion models. Therefore, the challenge\\nin guidance for general flow matching remains\\nlargely underexplored. In this paper, we propose\\nthe first framework of general guidance for flow\\nmatching. From this framework, we derive a fam-\\nily of guidance techniques that can be applied\\nto general flow matching. These include a new\\ntraining-free asymptotically exact guidance, novel\\ntraining losses for training-based guidance, and\\ntwo classes of approximate guidance that cover\\nclassical gradient guidance methods as special\\ncases. We theoretically investigate these different')"
      ]
     },
     "execution_count": 5,
     "metadata": {},
     "output_type": "execute_result"
    }
   ],
   "source": [
    "documents = loader.load()\n",
    "text_splitter=RecursiveCharacterTextSplitter(chunk_size=1000,chunk_overlap=200)\n",
    "final_documents = text_splitter.split_documents(documents)\n",
    "final_documents[0]"
   ]
  },
  {
   "cell_type": "code",
   "execution_count": 6,
   "id": "25385826",
   "metadata": {},
   "outputs": [
    {
     "data": {
      "text/plain": [
       "143"
      ]
     },
     "execution_count": 6,
     "metadata": {},
     "output_type": "execute_result"
    }
   ],
   "source": [
    "len(final_documents)"
   ]
  },
  {
   "cell_type": "code",
   "execution_count": 8,
   "id": "22e33467",
   "metadata": {},
   "outputs": [
    {
     "name": "stderr",
     "output_type": "stream",
     "text": [
      "C:\\Users\\mithlesh singla\\AppData\\Local\\Temp\\ipykernel_20328\\2307819984.py:1: LangChainDeprecationWarning: The class `HuggingFaceEmbeddings` was deprecated in LangChain 0.2.2 and will be removed in 1.0. An updated version of the class exists in the :class:`~langchain-huggingface package and should be used instead. To use it run `pip install -U :class:`~langchain-huggingface` and import as `from :class:`~langchain_huggingface import HuggingFaceEmbeddings``.\n",
      "  HuggingFaceEmbedding=HuggingFaceEmbeddings(model_name=\"sentence-transformers/all-MiniLM-L6-v2\", encode_kwargs={\"normalize_embeddings\": True})\n",
      "c:\\Users\\mithlesh singla\\AppData\\Local\\Programs\\Python\\Python311\\Lib\\site-packages\\tqdm\\auto.py:21: TqdmWarning: IProgress not found. Please update jupyter and ipywidgets. See https://ipywidgets.readthedocs.io/en/stable/user_install.html\n",
      "  from .autonotebook import tqdm as notebook_tqdm\n"
     ]
    },
    {
     "name": "stdout",
     "output_type": "stream",
     "text": [
      "WARNING:tensorflow:From c:\\Users\\mithlesh singla\\AppData\\Local\\Programs\\Python\\Python311\\Lib\\site-packages\\tf_keras\\src\\losses.py:2976: The name tf.losses.sparse_softmax_cross_entropy is deprecated. Please use tf.compat.v1.losses.sparse_softmax_cross_entropy instead.\n",
      "\n"
     ]
    }
   ],
   "source": [
    "HuggingFaceEmbedding=HuggingFaceEmbeddings(model_name=\"sentence-transformers/all-MiniLM-L6-v2\", encode_kwargs={\"normalize_embeddings\": True})"
   ]
  },
  {
   "cell_type": "code",
   "execution_count": null,
   "id": "f09c81d5",
   "metadata": {},
   "outputs": [],
   "source": []
  }
 ],
 "metadata": {
  "kernelspec": {
   "display_name": "Python (langchain-env)",
   "language": "python",
   "name": "langchain-env"
  },
  "language_info": {
   "codemirror_mode": {
    "name": "ipython",
    "version": 3
   },
   "file_extension": ".py",
   "mimetype": "text/x-python",
   "name": "python",
   "nbconvert_exporter": "python",
   "pygments_lexer": "ipython3",
   "version": "3.11.9"
  }
 },
 "nbformat": 4,
 "nbformat_minor": 5
}
