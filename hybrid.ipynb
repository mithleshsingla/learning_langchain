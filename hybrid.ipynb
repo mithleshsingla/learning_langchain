{
 "cells": [
  {
   "cell_type": "code",
   "execution_count": 1,
   "id": "3cad4376",
   "metadata": {},
   "outputs": [],
   "source": [
    "api_key=\"pcsk_6bELL7_6GT9Pk4Eiz7JNEmRd6K3Gw2GnnyEVkvagPXnJTWyPs6fiXabdfeMughRknNntwk\""
   ]
  },
  {
   "cell_type": "code",
   "execution_count": null,
   "id": "5300759f",
   "metadata": {},
   "outputs": [],
   "source": []
  },
  {
   "cell_type": "code",
   "execution_count": 2,
   "id": "bfb051e2",
   "metadata": {},
   "outputs": [],
   "source": [
    "from langchain_community.retrievers.pinecone_hybrid_search import PineconeHybridSearchRetriever\n"
   ]
  },
  {
   "cell_type": "code",
   "execution_count": 3,
   "id": "90b85b45",
   "metadata": {},
   "outputs": [],
   "source": [
    "import os"
   ]
  },
  {
   "cell_type": "code",
   "execution_count": 4,
   "id": "b96596c0",
   "metadata": {},
   "outputs": [],
   "source": [
    "from pinecone import Pinecone,ServerlessSpec"
   ]
  },
  {
   "cell_type": "code",
   "execution_count": 5,
   "id": "761669bb",
   "metadata": {},
   "outputs": [],
   "source": [
    "index_name = \"langchain-hybrid-search\""
   ]
  },
  {
   "cell_type": "code",
   "execution_count": 6,
   "id": "538d7f5a",
   "metadata": {},
   "outputs": [],
   "source": [
    "pc= Pinecone(\n",
    "    api_key=api_key)"
   ]
  },
  {
   "cell_type": "code",
   "execution_count": 7,
   "id": "aed67534",
   "metadata": {},
   "outputs": [],
   "source": [
    "if index_name not in pc.list_indexes().names():\n",
    "    pc.create_index(\n",
    "        name=index_name,\n",
    "        dimension=384,\n",
    "        metric=\"dotproduct\",\n",
    "        spec=ServerlessSpec(\n",
    "            cloud=\"aws\",\n",
    "            region=\"us-east-1\"\n",
    "        )\n",
    "    )"
   ]
  },
  {
   "cell_type": "code",
   "execution_count": 8,
   "id": "7bd7ab4a",
   "metadata": {},
   "outputs": [
    {
     "name": "stderr",
     "output_type": "stream",
     "text": [
      "c:\\Users\\mithlesh singla\\AppData\\Local\\Programs\\Python\\Python311\\Lib\\site-packages\\tqdm\\auto.py:21: TqdmWarning: IProgress not found. Please update jupyter and ipywidgets. See https://ipywidgets.readthedocs.io/en/stable/user_install.html\n",
      "  from .autonotebook import tqdm as notebook_tqdm\n"
     ]
    },
    {
     "data": {
      "text/plain": [
       "<pinecone.db_data.index.Index at 0x2639a7eca10>"
      ]
     },
     "execution_count": 8,
     "metadata": {},
     "output_type": "execute_result"
    }
   ],
   "source": [
    "index=pc.Index(index_name)\n",
    "index"
   ]
  },
  {
   "cell_type": "code",
   "execution_count": 9,
   "id": "80027737",
   "metadata": {},
   "outputs": [
    {
     "data": {
      "text/plain": [
       "True"
      ]
     },
     "execution_count": 9,
     "metadata": {},
     "output_type": "execute_result"
    }
   ],
   "source": [
    "import os\n",
    "\n",
    "from dotenv import load_dotenv\n",
    "load_dotenv()\n"
   ]
  },
  {
   "cell_type": "code",
   "execution_count": 10,
   "id": "3ec7cfb3",
   "metadata": {},
   "outputs": [],
   "source": [
    "os.environ[\"HF_TOKEN\"]=os.getenv(\"HF_TOKEN\")"
   ]
  },
  {
   "cell_type": "code",
   "execution_count": 11,
   "id": "b4ba4477",
   "metadata": {},
   "outputs": [
    {
     "name": "stdout",
     "output_type": "stream",
     "text": [
      "WARNING:tensorflow:From c:\\Users\\mithlesh singla\\AppData\\Local\\Programs\\Python\\Python311\\Lib\\site-packages\\tf_keras\\src\\losses.py:2976: The name tf.losses.sparse_softmax_cross_entropy is deprecated. Please use tf.compat.v1.losses.sparse_softmax_cross_entropy instead.\n",
      "\n"
     ]
    },
    {
     "data": {
      "text/plain": [
       "HuggingFaceEmbeddings(model_name='all-MiniLM-L6-v2', cache_folder=None, model_kwargs={}, encode_kwargs={}, query_encode_kwargs={}, multi_process=False, show_progress=False)"
      ]
     },
     "execution_count": 11,
     "metadata": {},
     "output_type": "execute_result"
    }
   ],
   "source": [
    "from langchain_huggingface import HuggingFaceEmbeddings \n",
    "embeddings = HuggingFaceEmbeddings(\n",
    "    model_name=\"all-MiniLM-L6-v2\")\n",
    "embeddings"
   ]
  },
  {
   "cell_type": "code",
   "execution_count": 12,
   "id": "8d0b9f07",
   "metadata": {},
   "outputs": [
    {
     "name": "stderr",
     "output_type": "stream",
     "text": [
      "[nltk_data] Downloading package punkt_tab to C:\\Users\\mithlesh\n",
      "[nltk_data]     singla\\AppData\\Roaming\\nltk_data...\n",
      "[nltk_data]   Unzipping tokenizers\\punkt_tab.zip.\n",
      "[nltk_data] Downloading package stopwords to C:\\Users\\mithlesh\n",
      "[nltk_data]     singla\\AppData\\Roaming\\nltk_data...\n",
      "[nltk_data]   Unzipping corpora\\stopwords.zip.\n"
     ]
    }
   ],
   "source": [
    "from pinecone_text.sparse import BM25Encoder\n",
    "bm_25 = BM25Encoder().default()"
   ]
  },
  {
   "cell_type": "code",
   "execution_count": 15,
   "id": "1f91b065",
   "metadata": {},
   "outputs": [
    {
     "name": "stderr",
     "output_type": "stream",
     "text": [
      "100%|██████████| 3/3 [00:00<00:00, 1426.15it/s]\n"
     ]
    },
    {
     "data": {
      "text/plain": [
       "<pinecone_text.sparse.bm25_encoder.BM25Encoder at 0x263f70aec50>"
      ]
     },
     "execution_count": 15,
     "metadata": {},
     "output_type": "execute_result"
    }
   ],
   "source": [
    "from pinecone_text.sparse import BM25Encoder\n",
    "\n",
    "sentences = [\n",
    "    \"The quick brown fox jumps over the lazy dog.\",\n",
    "    \"A journey of a thousand miles begins with a single step.\",\n",
    "    \"To be or not to be, that is the question.\"\n",
    "]\n",
    "\n",
    "# Fit and dump\n",
    "bm_25 = BM25Encoder()\n",
    "bm_25.fit(sentences)\n",
    "bm_25.dump(\"bm25_values.json\")\n",
    "\n",
    "# Load using a new instance\n",
    "bm_25_loaded = BM25Encoder()\n",
    "bm_25_loaded.load(\"bm25_values.json\")\n"
   ]
  },
  {
   "cell_type": "code",
   "execution_count": 16,
   "id": "6a41f71f",
   "metadata": {},
   "outputs": [],
   "source": [
    "retriver= PineconeHybridSearchRetriever(embeddings=embeddings,\n",
    "    sparse_encoder=bm_25_loaded,index=index)"
   ]
  },
  {
   "cell_type": "code",
   "execution_count": 17,
   "id": "107dcc70",
   "metadata": {},
   "outputs": [
    {
     "name": "stderr",
     "output_type": "stream",
     "text": [
      "100%|██████████| 1/1 [00:03<00:00,  3.51s/it]\n"
     ]
    }
   ],
   "source": [
    "retriver.add_texts(sentences)"
   ]
  },
  {
   "cell_type": "code",
   "execution_count": 19,
   "id": "04b1a795",
   "metadata": {},
   "outputs": [
    {
     "data": {
      "text/plain": [
       "[Document(metadata={'score': 0.35122788}, page_content='The quick brown fox jumps over the lazy dog.'),\n",
       " Document(metadata={'score': 0.043923378}, page_content='To be or not to be, that is the question.'),\n",
       " Document(metadata={'score': 0.00463056564}, page_content='A journey of a thousand miles begins with a single step.')]"
      ]
     },
     "execution_count": 19,
     "metadata": {},
     "output_type": "execute_result"
    }
   ],
   "source": [
    "retriver.invoke(\"What is the colour of fox?\")"
   ]
  },
  {
   "cell_type": "code",
   "execution_count": null,
   "id": "56b049bf",
   "metadata": {},
   "outputs": [],
   "source": []
  }
 ],
 "metadata": {
  "kernelspec": {
   "display_name": "Python (langchain-env)",
   "language": "python",
   "name": "langchain-env"
  },
  "language_info": {
   "codemirror_mode": {
    "name": "ipython",
    "version": 3
   },
   "file_extension": ".py",
   "mimetype": "text/x-python",
   "name": "python",
   "nbconvert_exporter": "python",
   "pygments_lexer": "ipython3",
   "version": "3.11.9"
  }
 },
 "nbformat": 4,
 "nbformat_minor": 5
}
