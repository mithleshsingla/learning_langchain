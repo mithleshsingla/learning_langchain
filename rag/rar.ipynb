{
 "cells": [
  {
   "cell_type": "code",
   "execution_count": 1,
   "id": "3a61c563",
   "metadata": {},
   "outputs": [],
   "source": [
    "## Data Ingestion\n",
    "from langchain_community.document_loaders import TextLoader\n",
    "loader=TextLoader(\"speech.txt\")\n",
    "text_documents=loader.load()\n"
   ]
  },
  {
   "cell_type": "code",
   "execution_count": 3,
   "id": "32c5a47a",
   "metadata": {},
   "outputs": [
    {
     "data": {
      "text/plain": [
       "True"
      ]
     },
     "execution_count": 3,
     "metadata": {},
     "output_type": "execute_result"
    }
   ],
   "source": [
    "import os\n",
    "from dotenv import load_dotenv\n",
    "load_dotenv()\n",
    "\n",
    "# os.environ['OPENAI_API_KEY']=os.getenv(\"OPENAI_API_KEY\")"
   ]
  },
  {
   "cell_type": "code",
   "execution_count": 4,
   "id": "75959ee9",
   "metadata": {},
   "outputs": [
    {
     "name": "stderr",
     "output_type": "stream",
     "text": [
      "USER_AGENT environment variable not set, consider setting it to identify your requests.\n"
     ]
    }
   ],
   "source": [
    "# web based loader\n",
    "from langchain_community.document_loaders import WebBaseLoader\n",
    "import bs4\n",
    "\n",
    "## load,chunk and index the content of the html page\n",
    "\n",
    "loader=WebBaseLoader(web_paths=(\"https://lilianweng.github.io/posts/2023-06-23-agent/\",),\n",
    "                     bs_kwargs=dict(parse_only=bs4.SoupStrainer(\n",
    "                         class_=(\"post-title\",\"post-content\",\"post-header\")\n",
    "\n",
    "                     )))\n",
    "\n",
    "text_documents=loader.load()"
   ]
  },
  {
   "cell_type": "code",
   "execution_count": null,
   "id": "2dfec3ed",
   "metadata": {},
   "outputs": [],
   "source": []
  },
  {
   "cell_type": "code",
   "execution_count": 6,
   "id": "4b96f89a",
   "metadata": {},
   "outputs": [],
   "source": [
    "## Pdf reader\n",
    "from langchain_community.document_loaders import PyPDFLoader\n",
    "loader=PyPDFLoader('flow_matching.pdf')\n",
    "docs=loader.load()"
   ]
  },
  {
   "cell_type": "code",
   "execution_count": 11,
   "id": "fc2eab0f",
   "metadata": {},
   "outputs": [
    {
     "data": {
      "text/plain": [
       "[Document(metadata={'producer': 'pdfTeX-1.40.25', 'creator': 'LaTeX with hyperref', 'creationdate': '2025-02-05T01:37:59+00:00', 'author': 'Ruiqi Feng, Tailin Wu, Chenglei Yu, Wenhao Deng, Peiyan Hu', 'keywords': 'Machine Learning, ICML', 'moddate': '2025-02-05T01:37:59+00:00', 'ptex.fullbanner': 'This is pdfTeX, Version 3.141592653-2.6-1.40.25 (TeX Live 2023) kpathsea version 6.3.5', 'subject': 'Proceedings of the International Conference on Machine Learning 2025', 'title': 'On the Guidance of Flow Matching', 'trapped': '/False', 'source': 'flow_matching.pdf', 'total_pages': 35, 'page': 0, 'page_label': '1'}, page_content='On the Guidance of Flow Matching\\nRuiqi Feng 1 Tailin Wu1 Chenglei Yu1 Wenhao Deng1 Peiyan Hu 2\\nAbstract\\nFlow matching has shown state-of-the-art per-\\nformance in various generative tasks, ranging\\nfrom image generation to decision-making, where\\nguided generation is pivotal. However, the guid-\\nance of flow matching is more general than and\\nthus substantially different from that of its prede-\\ncessor, diffusion models. Therefore, the challenge\\nin guidance for general flow matching remains\\nlargely underexplored. In this paper, we propose\\nthe first framework of general guidance for flow\\nmatching. From this framework, we derive a fam-\\nily of guidance techniques that can be applied\\nto general flow matching. These include a new\\ntraining-free asymptotically exact guidance, novel\\ntraining losses for training-based guidance, and\\ntwo classes of approximate guidance that cover\\nclassical gradient guidance methods as special\\ncases. We theoretically investigate these different'),\n",
       " Document(metadata={'producer': 'pdfTeX-1.40.25', 'creator': 'LaTeX with hyperref', 'creationdate': '2025-02-05T01:37:59+00:00', 'author': 'Ruiqi Feng, Tailin Wu, Chenglei Yu, Wenhao Deng, Peiyan Hu', 'keywords': 'Machine Learning, ICML', 'moddate': '2025-02-05T01:37:59+00:00', 'ptex.fullbanner': 'This is pdfTeX, Version 3.141592653-2.6-1.40.25 (TeX Live 2023) kpathsea version 6.3.5', 'subject': 'Proceedings of the International Conference on Machine Learning 2025', 'title': 'On the Guidance of Flow Matching', 'trapped': '/False', 'source': 'flow_matching.pdf', 'total_pages': 35, 'page': 0, 'page_label': '1'}, page_content='training losses for training-based guidance, and\\ntwo classes of approximate guidance that cover\\nclassical gradient guidance methods as special\\ncases. We theoretically investigate these different\\nmethods to give a practical guideline for choosing\\nsuitable methods in different scenarios. Experi-\\nments on synthetic datasets, image inverse prob-\\nlems, and offline reinforcement learning demon-\\nstrate the effectiveness of our proposed guidance\\nmethods and verify the correctness of our flow\\nmatching guidance framework. Code to repro-\\nduce the experiments can be found at here.\\n1. Introduction\\nFlow matching has emerged as a prominent class of gen-\\nerative models. It features the ability to use a vector field\\nto transform samples from a source distribution into sam-\\nples following a target distribution, thus realizing generative\\nmodeling (Lipman et al., 2023). The probability distribution\\nthe samples follow during the flow is called the probability'),\n",
       " Document(metadata={'producer': 'pdfTeX-1.40.25', 'creator': 'LaTeX with hyperref', 'creationdate': '2025-02-05T01:37:59+00:00', 'author': 'Ruiqi Feng, Tailin Wu, Chenglei Yu, Wenhao Deng, Peiyan Hu', 'keywords': 'Machine Learning, ICML', 'moddate': '2025-02-05T01:37:59+00:00', 'ptex.fullbanner': 'This is pdfTeX, Version 3.141592653-2.6-1.40.25 (TeX Live 2023) kpathsea version 6.3.5', 'subject': 'Proceedings of the International Conference on Machine Learning 2025', 'title': 'On the Guidance of Flow Matching', 'trapped': '/False', 'source': 'flow_matching.pdf', 'total_pages': 35, 'page': 0, 'page_label': '1'}, page_content='ples following a target distribution, thus realizing generative\\nmodeling (Lipman et al., 2023). The probability distribution\\nthe samples follow during the flow is called the probability\\npath. By designing the probability path in a large design\\nspace, flow matching has shown improved generative model-\\n1Department of Artificial Intelligence, Westlake University,\\nHangzhou, China 2Academy of Mathematics and Systems Science,\\nChinese Academy of Sciences, Beijing, China. Correspondence\\nto: Tailin Wu <wutailin@westlake.edu.cn>.\\ning fidelity as well as higher sampling efficiency in a variety\\nof generative modeling tasks including image generation\\n(Lipman et al., 2023), decision-making (Zheng et al., 2023),\\naudio generation, and molecular structure design (Gat et al.,\\n2024; Chen & Lipman, 2024; Ben-Hamu et al., 2024). Flow\\nmatching substantially extends diffusion models (Ho et al.,\\n2020; Song et al., 2021). Most diffusion models leverage the'),\n",
       " Document(metadata={'producer': 'pdfTeX-1.40.25', 'creator': 'LaTeX with hyperref', 'creationdate': '2025-02-05T01:37:59+00:00', 'author': 'Ruiqi Feng, Tailin Wu, Chenglei Yu, Wenhao Deng, Peiyan Hu', 'keywords': 'Machine Learning, ICML', 'moddate': '2025-02-05T01:37:59+00:00', 'ptex.fullbanner': 'This is pdfTeX, Version 3.141592653-2.6-1.40.25 (TeX Live 2023) kpathsea version 6.3.5', 'subject': 'Proceedings of the International Conference on Machine Learning 2025', 'title': 'On the Guidance of Flow Matching', 'trapped': '/False', 'source': 'flow_matching.pdf', 'total_pages': 35, 'page': 0, 'page_label': '1'}, page_content='2024; Chen & Lipman, 2024; Ben-Hamu et al., 2024). Flow\\nmatching substantially extends diffusion models (Ho et al.,\\n2020; Song et al., 2021). Most diffusion models leverage the\\nscore matching process (Song & Ermon, 2019; Song et al.,\\n2020; 2021), inherently limiting them to using the Gaussian\\ndistribution as the source distribution to construct a special\\nprobability path. Meanwhile, flow matching can learn the\\nmapping between any source distribution and target distri-\\nbutions (Lipman et al., 2023; 2024; Chen & Lipman, 2024;\\nGat et al., 2024).\\nGuiding flow matching models refers to steering the gen-\\nerated samples toward desired properties, thus sampling\\nfrom a distribution weighted with some objective function\\n(Lu et al., 2023) or conditioned on class labels (Song et al.,\\n2021). It is vital in many generative modeling applications\\n(Song et al., 2023b; Zheng et al., 2023), but in contrary\\nto well-studied guidance in diffusion models (Song et al.,'),\n",
       " Document(metadata={'producer': 'pdfTeX-1.40.25', 'creator': 'LaTeX with hyperref', 'creationdate': '2025-02-05T01:37:59+00:00', 'author': 'Ruiqi Feng, Tailin Wu, Chenglei Yu, Wenhao Deng, Peiyan Hu', 'keywords': 'Machine Learning, ICML', 'moddate': '2025-02-05T01:37:59+00:00', 'ptex.fullbanner': 'This is pdfTeX, Version 3.141592653-2.6-1.40.25 (TeX Live 2023) kpathsea version 6.3.5', 'subject': 'Proceedings of the International Conference on Machine Learning 2025', 'title': 'On the Guidance of Flow Matching', 'trapped': '/False', 'source': 'flow_matching.pdf', 'total_pages': 35, 'page': 0, 'page_label': '1'}, page_content='2021). It is vital in many generative modeling applications\\n(Song et al., 2023b; Zheng et al., 2023), but in contrary\\nto well-studied guidance in diffusion models (Song et al.,\\n2023b; Chung et al., 2023; Dhariwal & Nichol, 2021; Song\\net al., 2023a; Zheng et al., 2024; Lu et al., 2023; Dou &\\nSong, 2024; Trippe et al., 2023), the guidance of flow match-\\ning remains less investigated. Most existing guidance meth-\\nods only apply to a subset of flow matching that assumes the\\nsource distribution to be Gaussian and the probability path to\\nhave a certain simple form (Lipman et al., 2024; Zheng et al.,\\n2023; Pokle et al., 2024; Anonymous, 2025b;c). In these\\ncases, it is allowed to simplify the guidance of flow match-\\ning to be essentially the same as diffusion model guidance,\\nbut flow matching’s power of generating more flexible prob-\\nability paths than diffusion models (Tong et al., 2024; Chen\\n& Lipman, 2024; Gat et al., 2024) is restricted. There have')]"
      ]
     },
     "execution_count": 11,
     "metadata": {},
     "output_type": "execute_result"
    }
   ],
   "source": [
    "from langchain.text_splitter import RecursiveCharacterTextSplitter\n",
    "text_splitter=RecursiveCharacterTextSplitter(chunk_size=1000,chunk_overlap=200)\n",
    "documents=text_splitter.split_documents(docs)\n",
    "documents[:5]"
   ]
  },
  {
   "cell_type": "code",
   "execution_count": 12,
   "id": "198063ea",
   "metadata": {},
   "outputs": [],
   "source": [
    "from langchain.embeddings import HuggingFaceEmbeddings\n",
    "\n",
    "embedding_model = HuggingFaceEmbeddings(model_name=\"sentence-transformers/all-MiniLM-L6-v2\")\n",
    "from langchain_community.vectorstores import Chroma\n",
    "db1 = Chroma.from_documents(documents[:10], embedding_model)\n"
   ]
  },
  {
   "cell_type": "code",
   "execution_count": 14,
   "id": "60ee3c4b",
   "metadata": {},
   "outputs": [
    {
     "name": "stdout",
     "output_type": "stream",
     "text": [
      "2024; Chen & Lipman, 2024; Ben-Hamu et al., 2024). Flow\n",
      "matching substantially extends diffusion models (Ho et al.,\n",
      "2020; Song et al., 2021). Most diffusion models leverage the\n",
      "score matching process (Song & Ermon, 2019; Song et al.,\n",
      "2020; 2021), inherently limiting them to using the Gaussian\n",
      "distribution as the source distribution to construct a special\n",
      "probability path. Meanwhile, flow matching can learn the\n",
      "mapping between any source distribution and target distri-\n",
      "butions (Lipman et al., 2023; 2024; Chen & Lipman, 2024;\n",
      "Gat et al., 2024).\n",
      "Guiding flow matching models refers to steering the gen-\n",
      "erated samples toward desired properties, thus sampling\n",
      "from a distribution weighted with some objective function\n",
      "(Lu et al., 2023) or conditioned on class labels (Song et al.,\n",
      "2021). It is vital in many generative modeling applications\n",
      "(Song et al., 2023b; Zheng et al., 2023), but in contrary\n",
      "to well-studied guidance in diffusion models (Song et al.,\n"
     ]
    }
   ],
   "source": [
    "query = \"What is flow matching?\"\n",
    "retireved_results=db1.similarity_search(query)\n",
    "print(retireved_results[0].page_content)"
   ]
  },
  {
   "cell_type": "code",
   "execution_count": 16,
   "id": "c23261a5",
   "metadata": {},
   "outputs": [],
   "source": [
    "## FAISS Vector Database\n",
    "from langchain_community.vectorstores import FAISS\n",
    "db2 = FAISS.from_documents(documents[:10], embedding_model)"
   ]
  },
  {
   "cell_type": "code",
   "execution_count": 17,
   "id": "3aebbc76",
   "metadata": {},
   "outputs": [
    {
     "name": "stdout",
     "output_type": "stream",
     "text": [
      "2024; Chen & Lipman, 2024; Ben-Hamu et al., 2024). Flow\n",
      "matching substantially extends diffusion models (Ho et al.,\n",
      "2020; Song et al., 2021). Most diffusion models leverage the\n",
      "score matching process (Song & Ermon, 2019; Song et al.,\n",
      "2020; 2021), inherently limiting them to using the Gaussian\n",
      "distribution as the source distribution to construct a special\n",
      "probability path. Meanwhile, flow matching can learn the\n",
      "mapping between any source distribution and target distri-\n",
      "butions (Lipman et al., 2023; 2024; Chen & Lipman, 2024;\n",
      "Gat et al., 2024).\n",
      "Guiding flow matching models refers to steering the gen-\n",
      "erated samples toward desired properties, thus sampling\n",
      "from a distribution weighted with some objective function\n",
      "(Lu et al., 2023) or conditioned on class labels (Song et al.,\n",
      "2021). It is vital in many generative modeling applications\n",
      "(Song et al., 2023b; Zheng et al., 2023), but in contrary\n",
      "to well-studied guidance in diffusion models (Song et al.,\n"
     ]
    }
   ],
   "source": [
    "query = \"What is flow matching?\"\n",
    "retireved_results=db2.similarity_search(query)\n",
    "print(retireved_results[0].page_content)"
   ]
  },
  {
   "cell_type": "code",
   "execution_count": null,
   "id": "5f2ea09d",
   "metadata": {},
   "outputs": [],
   "source": []
  }
 ],
 "metadata": {
  "kernelspec": {
   "display_name": "Python (langchain-env)",
   "language": "python",
   "name": "langchain-env"
  },
  "language_info": {
   "codemirror_mode": {
    "name": "ipython",
    "version": 3
   },
   "file_extension": ".py",
   "mimetype": "text/x-python",
   "name": "python",
   "nbconvert_exporter": "python",
   "pygments_lexer": "ipython3",
   "version": "3.11.9"
  }
 },
 "nbformat": 4,
 "nbformat_minor": 5
}
